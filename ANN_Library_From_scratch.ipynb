{
  "nbformat": 4,
  "nbformat_minor": 0,
  "metadata": {
    "colab": {
      "provenance": []
    },
    "kernelspec": {
      "name": "python3",
      "display_name": "Python 3"
    },
    "language_info": {
      "name": "python"
    }
  },
  "cells": [
    {
      "cell_type": "code",
      "execution_count": 1,
      "metadata": {
        "id": "JzuZLNbya6Fg"
      },
      "outputs": [],
      "source": [
        "import numpy as np\n",
        "np.random.seed(42)"
      ]
    },
    {
      "cell_type": "markdown",
      "source": [
        "# The neuron"
      ],
      "metadata": {
        "id": "gtEA4NrRbTWN"
      }
    },
    {
      "cell_type": "code",
      "source": [
        "class Neuron(object):\n",
        "      \"\"\"\n",
        "    A simple artificial neuron, processing an input vector and returning a corresponding activation.\n",
        "    Args:\n",
        "        num_inputs (int): The input vector size / number of input values.\n",
        "        activation_function (callable): The activation function defining this neuron.\n",
        "    Attributes:\n",
        "        W (ndarray): The weight values for each input.\n",
        "        b (float): The bias value, added to the weighted sum.\n",
        "        activation_function (callable): The activation function computing the neuron's output.\n",
        "    \"\"\"\n",
        "      def __init__(self, num_inputs, activation_function):\n",
        "        super().__init__()\n",
        "        self.W = np.random.uniform(size = num_inputs, low = -1, high = 1)\n",
        "        self.b = np.random.uniform(size = 1, low = -1, high = 1)\n",
        "        self.activation_function = activation_function\n",
        "\n",
        "      def forward(self,x):\n",
        "        \"\"\"\n",
        "        Forward the input signal through the neuron, returning its activation value.\n",
        "        Args:\n",
        "            x (ndarray): The input vector, of shape `(1, num_inputs)`\n",
        "        Returns:\n",
        "            activation (ndarray): The activation value, of shape `(1, layer_size)`.\n",
        "        \"\"\"\n",
        "        z = np.dot(x, self.W) + self.b\n",
        "        return self.activation_function(z)\n",
        "\n"
      ],
      "metadata": {
        "id": "e6xVEzW3bS2m"
      },
      "execution_count": 4,
      "outputs": []
    },
    {
      "cell_type": "markdown",
      "source": [
        "This class represents a simple artificial neuron. This will receive a vector of input values to merge and process them before an activation value. First we instantiate our neuron. Let us create a perceptron taking 2 input values and using the step function for computing its activation. Its weights and bias values are randomly set"
      ],
      "metadata": {
        "id": "ArwGh2KIbywq"
      }
    },
    {
      "cell_type": "code",
      "source": [
        "input_size = 3\n",
        "step_function = lambda y: 0 if y <= 0 else 1\n",
        "perceptron = Neuron(num_inputs = input_size, activation_function=step_function)\n",
        "print(\"Perceptron's random weights = {} and random bias = {}\".format(perceptron.W, perceptron.b))"
      ],
      "metadata": {
        "colab": {
          "base_uri": "https://localhost:8080/"
        },
        "id": "Wsf_ldD1bPkV",
        "outputId": "19c6855a-d4ca-4097-88ba-8983a917825f"
      },
      "execution_count": 20,
      "outputs": [
        {
          "output_type": "stream",
          "name": "stdout",
          "text": [
            "Perceptron's random weights = [-0.60065244  0.02846888  0.18482914] and random bias = [-0.90709917]\n"
          ]
        }
      ]
    },
    {
      "cell_type": "code",
      "source": [
        "x = np.random.rand(input_size).reshape(1,input_size)\n",
        "print(\"Input vector = {}\". format(x))"
      ],
      "metadata": {
        "colab": {
          "base_uri": "https://localhost:8080/"
        },
        "id": "WOvkGWrWfLYf",
        "outputId": "6dc3b3e6-333f-488b-cb14-fbff98791b47"
      },
      "execution_count": 21,
      "outputs": [
        {
          "output_type": "stream",
          "name": "stdout",
          "text": [
            "Input vector = [[0.60754485 0.17052412 0.06505159]]\n"
          ]
        }
      ]
    },
    {
      "cell_type": "code",
      "source": [
        "y = perceptron.forward(x)\n",
        "print(\"Perceptron's output value given x:{}\".format(y))"
      ],
      "metadata": {
        "colab": {
          "base_uri": "https://localhost:8080/"
        },
        "id": "dFWz8hUQfaUE",
        "outputId": "bf0f3c54-224b-446e-8507-d66da3644339"
      },
      "execution_count": 22,
      "outputs": [
        {
          "output_type": "stream",
          "name": "stdout",
          "text": [
            "Perceptron's output value given x:0\n"
          ]
        }
      ]
    },
    {
      "cell_type": "markdown",
      "source": [
        "# Layering Neurons Together"
      ],
      "metadata": {
        "id": "2cHefnHpgKNh"
      }
    },
    {
      "cell_type": "code",
      "source": [
        "class FullyConnectedLayer(object):\n",
        "    \"\"\"A simple fully-connected NN layer.\n",
        "    Args:\n",
        "        num_inputs (int): The input vector size / number of input values.\n",
        "        layer_size (int): The output vector size / number of neurons in the layer.\n",
        "        activation_function (callable): The activation function for this layer.\n",
        "    Attributes:\n",
        "        W (ndarray): The weight values for each input.\n",
        "        b (ndarray): The bias value, added to the weighted sum.\n",
        "        size (int): The layer size / number of neurons.\n",
        "        activation_function (callable): The activation function computing the neuron's output.\n",
        "        x (ndarray): The last provided input vector, stored for backpropagation.\n",
        "        y (ndarray): The corresponding output, also stored for backpropagation.\n",
        "        derivated_activation_function (callable): The corresponding derivated function for backpropagation.\n",
        "        dL_dW (ndarray): The derivative of the loss, with respect to the weights W.\n",
        "        dL_db (ndarray): The derivative of the loss, with respect to the bias b.\n",
        "    \"\"\"\n",
        "\n",
        "    def __init__(self, num_inputs, layer_size, activation_function, derivated_activation_function=None):\n",
        "        super().__init__()\n",
        "\n",
        "        # Randomly initializing the weight vector and the bias value (using a normal distribution this time):\n",
        "        self.W = np.random.standard_normal((num_inputs, layer_size))\n",
        "        self.b = np.random.standard_normal(layer_size)\n",
        "        self.size = layer_size\n",
        "\n",
        "        self.activation_function = activation_function\n",
        "        self.derivated_activation_function = derivated_activation_function\n",
        "        self.x, self.y = None, None\n",
        "        self.dL_dW, self.dL_db = None, None\n",
        "\n",
        "    def forward(self, x):\n",
        "        \"\"\"\n",
        "        Forward the input vector through the layer, returning its activation vector.\n",
        "        Args:\n",
        "            x (ndarray): The input vector, of shape `(batch_size, num_inputs)`\n",
        "        Returns:\n",
        "            activation (ndarray): The activation value, of shape `(batch_size, layer_size)`.\n",
        "        \"\"\"\n",
        "        z = np.dot(x, self.W) + self.b\n",
        "        self.y = self.activation_function(z)\n",
        "        self.x = x  # (we store the input and output values for back-propagation)\n",
        "        return self.y\n",
        "\n",
        "    def backward(self, dL_dy):\n",
        "        \"\"\"\n",
        "        Back-propagate the loss, computing all the derivatives, storing those w.r.t. the layer parameters,\n",
        "        and returning the loss w.r.t. its inputs for further propagation.\n",
        "        Args:\n",
        "            dL_dy (ndarray): The loss derivative w.r.t. the layer's output (dL/dy = l'_{k+1}).\n",
        "        Returns:\n",
        "            dL_dx (ndarray): The loss derivative w.r.t. the layer's input (dL/dx).\n",
        "        \"\"\"\n",
        "        dy_dz = self.derivated_activation_function(self.y)  # = f'\n",
        "        dL_dz = (dL_dy * dy_dz) # dL/dz = dL/dy * dy/dz = l'_{k+1} * f'\n",
        "        dz_dw = self.x.T\n",
        "        dz_dx = self.W.T\n",
        "        dz_db = np.ones(dL_dy.shape[0]) # dz/db = d(W.x + b)/db = 0 + db/db = \"ones\"-vector\n",
        "\n",
        "        # Computing the derivatives with respect to the layer's parameters, and storing them for opt. optimization:\n",
        "        self.dL_dW = np.dot(dz_dw, dL_dz)\n",
        "        self.dL_db = np.dot(dz_db, dL_dz)\n",
        "\n",
        "        # Computing the derivative with respect to the input, to be passed to the previous layers (their `dL_dy`):\n",
        "        dL_dx = np.dot(dL_dz, dz_dx)\n",
        "        return dL_dx\n",
        "\n",
        "    def optimize(self, epsilon):\n",
        "        \"\"\"\n",
        "        Optimize the layer's parameters, using the stored derivative values.\n",
        "        Args:\n",
        "            epsilon (float): The learning rate.\n",
        "        \"\"\"\n",
        "        self.W -= epsilon * self.dL_dW\n",
        "        self.b -= epsilon * self.dL_db"
      ],
      "metadata": {
        "id": "ZoFDLCiAfwXt"
      },
      "execution_count": 34,
      "outputs": []
    },
    {
      "cell_type": "code",
      "source": [
        "input_size = 2\n",
        "num_neurons  = 3\n",
        "relu_function = lambda y: np.maximum(y,0)\n",
        "layer = FullyConnectedLayer(num_inputs = input_size, layer_size = num_neurons, activation_function = relu_function)"
      ],
      "metadata": {
        "id": "GbBok7dsf1dc"
      },
      "execution_count": 35,
      "outputs": []
    },
    {
      "cell_type": "code",
      "source": [
        "x1 = np.random.uniform(-1,1,2).reshape(1,2)\n",
        "print(\"Input vector #1: {}\".format(x1))"
      ],
      "metadata": {
        "colab": {
          "base_uri": "https://localhost:8080/"
        },
        "id": "7rbOy-0Lf1tM",
        "outputId": "b5c21cce-df5e-4005-bd46-d9e31047d885"
      },
      "execution_count": 36,
      "outputs": [
        {
          "output_type": "stream",
          "name": "stdout",
          "text": [
            "Input vector #1: [[ 0.08539217 -0.71815155]]\n"
          ]
        }
      ]
    },
    {
      "cell_type": "code",
      "source": [
        "x2 = np.random.uniform(-1,1,2).reshape(1,2)\n",
        "print(\"Input vector #2 : {}\".format(x2))"
      ],
      "metadata": {
        "colab": {
          "base_uri": "https://localhost:8080/"
        },
        "id": "N8yihyKWjyvw",
        "outputId": "9a27e14a-ec03-4045-f0ac-e0b9237fa4ce"
      },
      "execution_count": 37,
      "outputs": [
        {
          "output_type": "stream",
          "name": "stdout",
          "text": [
            "Input vector #2 : [[ 0.60439396 -0.85089871]]\n"
          ]
        }
      ]
    },
    {
      "cell_type": "code",
      "source": [
        "y1 = layer.forward(x1)\n",
        "print(\"Layer's output value given `x1` : {}\".format(y1))\n",
        "y2 = layer.forward(x2)\n",
        "print(\"Layer's output value given `x2` : {}\".format(y2))"
      ],
      "metadata": {
        "colab": {
          "base_uri": "https://localhost:8080/"
        },
        "id": "zDk5mIslj4T5",
        "outputId": "df37e55e-ab67-4cca-a878-0009f64947e6"
      },
      "execution_count": 38,
      "outputs": [
        {
          "output_type": "stream",
          "name": "stdout",
          "text": [
            "Layer's output value given `x1` : [[0.21978189 0.         0.        ]]\n",
            "Layer's output value given `x2` : [[0.55580789 0.13268859 0.        ]]\n"
          ]
        }
      ]
    },
    {
      "cell_type": "code",
      "source": [
        "x12 = np.concatenate((x1, x2))  # stack of input vectors, of shape `(2, 2)`\n",
        "y12 = layer.forward(x12)\n",
        "print(\"Layer's output value given `[x1, x2]` :\\n{}\".format(y12))"
      ],
      "metadata": {
        "colab": {
          "base_uri": "https://localhost:8080/"
        },
        "id": "DdxuiKCXkF_j",
        "outputId": "0864b4d7-73f4-416f-9af2-8ea29fc15c45"
      },
      "execution_count": 39,
      "outputs": [
        {
          "output_type": "stream",
          "name": "stdout",
          "text": [
            "Layer's output value given `[x1, x2]` :\n",
            "[[0.21978189 0.         0.        ]\n",
            " [0.55580789 0.13268859 0.        ]]\n"
          ]
        }
      ]
    },
    {
      "cell_type": "markdown",
      "source": [
        "# Implementing a complete neural network"
      ],
      "metadata": {
        "id": "N972W0Oqkl2x"
      }
    },
    {
      "cell_type": "code",
      "source": [
        "def sigmoid(x):             # sigmoid function\n",
        "    y = 1 / (1 + np.exp(-x))\n",
        "    return y\n",
        "\n",
        "\n",
        "def derivated_sigmoid(y):   # sigmoid derivative function\n",
        "    return y * (1 - y)"
      ],
      "metadata": {
        "id": "jtImWib5kQjE"
      },
      "execution_count": 40,
      "outputs": []
    },
    {
      "cell_type": "code",
      "source": [
        "def loss_L2(pred, target):             # L2 loss function\n",
        "    return np.sum(np.square(pred - target)) / pred.shape[0] # opt. we divide by the batch size\n",
        "\n",
        "\n",
        "def derivated_loss_L2(pred, target):   # L2 derivative function\n",
        "    return 2 * (pred - target)"
      ],
      "metadata": {
        "id": "vHEwb7vYkqJO"
      },
      "execution_count": 41,
      "outputs": []
    },
    {
      "cell_type": "code",
      "source": [
        "def binary_cross_entropy(pred, target):            # cross-entropy loss function\n",
        "    return -np.mean(np.multiply(np.log(pred), target) + np.multiply(np.log(1 - pred), (1 - target)))\n",
        "\n",
        "\n",
        "def derivated_binary_cross_entropy(pred, target):  # cross-entropy derivative function\n",
        "    return (pred - target) / (pred * (1 - pred))"
      ],
      "metadata": {
        "id": "x4OdGXPnkrXA"
      },
      "execution_count": 42,
      "outputs": []
    },
    {
      "cell_type": "code",
      "source": [
        "class SimpleNetwork(object):\n",
        "    \"\"\"A simple fully-connected NN.\n",
        "    Args:\n",
        "        num_inputs (int): The input vector size / number of input values.\n",
        "        num_outputs (int): The output vector size.\n",
        "        hidden_layers_sizes (list): A list of sizes for each hidden layer to add to the network\n",
        "        activation_function (callable): The activation function for all the layers\n",
        "        derivated_activation_function (callable): The derivated activation function\n",
        "        loss_function (callable): The loss function to train this network\n",
        "        derivated_loss_function (callable): The derivative of the loss function, for back-propagation\n",
        "    Attributes:\n",
        "        layers (list): The list of layers forming this simple network.\n",
        "        loss_function (callable): The loss function to train this network.\n",
        "        derivated_loss_function (callable): The derivative of the loss function, for back-propagation.\n",
        "    \"\"\"\n",
        "\n",
        "    def __init__(self, num_inputs, num_outputs, hidden_layers_sizes=(64, 32),\n",
        "                 activation_function=sigmoid, derivated_activation_function=derivated_sigmoid,\n",
        "                 loss_function=loss_L2, derivated_loss_function=derivated_loss_L2):\n",
        "        super().__init__()\n",
        "        # We build the list of layers composing the network, according to the provided arguments:\n",
        "        layer_sizes = [num_inputs, *hidden_layers_sizes, num_outputs]\n",
        "        self.layers = [\n",
        "            FullyConnectedLayer(layer_sizes[i], layer_sizes[i + 1],\n",
        "                                activation_function, derivated_activation_function)\n",
        "            for i in range(len(layer_sizes) - 1)]\n",
        "\n",
        "        self.loss_function = loss_function\n",
        "        self.derivated_loss_function = derivated_loss_function\n",
        "\n",
        "    def forward(self, x):\n",
        "        \"\"\"\n",
        "        Forward the input vector through the layers, returning the output vector.\n",
        "        Args:\n",
        "            x (ndarray): The input vector, of shape `(batch_size, num_inputs)`.\n",
        "        Returns:\n",
        "            activation (ndarray): The output activation value, of shape `(batch_size, layer_size)`.\n",
        "        \"\"\"\n",
        "        for layer in self.layers: # from the input layer to the output one\n",
        "            x = layer.forward(x)\n",
        "        return x\n",
        "\n",
        "    def predict(self, x):\n",
        "        \"\"\"\n",
        "        Compute the output corresponding to input `x`, and return the index of the largest\n",
        "        output value.\n",
        "        Args:\n",
        "            x (ndarray): The input vector, of shape `(1, num_inputs)`.\n",
        "        Returns:\n",
        "            best_class (int): The predicted class ID.\n",
        "        \"\"\"\n",
        "        estimations = self.forward(x)\n",
        "        best_class = np.argmax(estimations)\n",
        "        return best_class\n",
        "\n",
        "    def backward(self, dL_dy):\n",
        "        \"\"\"\n",
        "        Back-propagate the loss hrough the layers (require `forward()` to be called before).\n",
        "        Args:\n",
        "            dL_dy (ndarray): The loss derivative w.r.t. the network's output (dL/dy).\n",
        "        Returns:\n",
        "            dL_dx (ndarray): The loss derivative w.r.t. the network's input (dL/dx).\n",
        "        \"\"\"\n",
        "        for layer in reversed(self.layers): # from the output layer to the input one\n",
        "            dL_dy = layer.backward(dL_dy)\n",
        "        return dL_dy\n",
        "\n",
        "    def optimize(self, epsilon):\n",
        "        \"\"\"\n",
        "        Optimize the network parameters according to the stored gradients (require `backward()`\n",
        "        to be called before).\n",
        "        Args:\n",
        "            epsilon (float): The learning rate.\n",
        "        \"\"\"\n",
        "        for layer in self.layers:             # the order doesn't matter here\n",
        "            layer.optimize(epsilon)\n",
        "\n",
        "    def evaluate_accuracy(self, X_val, y_val):\n",
        "        \"\"\"\n",
        "        Given a dataset and its ground-truth labels, evaluate the current accuracy of the network.\n",
        "        Args:\n",
        "            X_val (ndarray): The input validation dataset.\n",
        "            y_val (ndarray): The corresponding ground-truth validation dataset.\n",
        "        Returns:\n",
        "            accuracy (float): The accuracy of the network\n",
        "                              (= number of correct predictions/dataset size).\n",
        "        \"\"\"\n",
        "        num_corrects = 0\n",
        "        for i in range(len(X_val)):\n",
        "            pred_class = self.predict(X_val[i])\n",
        "            if pred_class == y_val[i]:\n",
        "                num_corrects += 1\n",
        "        return num_corrects / len(X_val)\n",
        "\n",
        "    def train(self, X_train, y_train, X_val=None, y_val=None,\n",
        "              batch_size=32, num_epochs=5, learning_rate=1e-3, print_frequency=20):\n",
        "        \"\"\"\n",
        "        Given a dataset and its ground-truth labels, evaluate the current accuracy of the network.\n",
        "        Args:\n",
        "            X_train (ndarray): The input training dataset.\n",
        "            y_train (ndarray): The corresponding ground-truth training dataset.\n",
        "            X_val (ndarray): The input validation dataset.\n",
        "            y_val (ndarray): The corresponding ground-truth validation dataset.\n",
        "            batch_size (int): The mini-batch size.\n",
        "            num_epochs (int): The number of training epochs i.e. iterations over the whole dataset.\n",
        "            learning_rate (float): The learning rate to scale the derivatives.\n",
        "            print_frequency (int): Frequency to print metrics (in epochs).\n",
        "        Returns:\n",
        "            losses (list): The list of training losses for each epoch.\n",
        "            accuracies (list): The list of validation accuracy values for each epoch.\n",
        "        \"\"\"\n",
        "        num_batches_per_epoch = len(X_train) // batch_size\n",
        "        do_validation = X_val is not None and y_val is not None\n",
        "        losses, accuracies = [], []\n",
        "        for i in range(num_epochs): # for each training epoch\n",
        "            epoch_loss = 0\n",
        "            for b in range(num_batches_per_epoch):  # for each batch composing the dataset\n",
        "                # Get batch:\n",
        "                batch_index_begin = b * batch_size\n",
        "                batch_index_end = batch_index_begin + batch_size\n",
        "                x = X_train[batch_index_begin: batch_index_end]\n",
        "                targets = y_train[batch_index_begin: batch_index_end]\n",
        "                # Optimize on batch:\n",
        "                predictions = y = self.forward(x)  # forward pass\n",
        "                L = self.loss_function(predictions, targets)  # loss computation\n",
        "                dL_dy = self.derivated_loss_function(predictions, targets)  # loss derivation\n",
        "                self.backward(dL_dy)  # back-propagation pass\n",
        "                self.optimize(learning_rate)  # optimization of the NN\n",
        "                epoch_loss += L\n",
        "\n",
        "            # Logging training loss and validation accuracy, to follow the training:\n",
        "            epoch_loss /= num_batches_per_epoch\n",
        "            losses.append(epoch_loss)\n",
        "            if do_validation:\n",
        "                accuracy = self.evaluate_accuracy(X_val, y_val)\n",
        "                accuracies.append(accuracy)\n",
        "            else:\n",
        "                accuracy = np.NaN\n",
        "            if i % print_frequency == 0 or i == (num_epochs - 1):\n",
        "                print(\"Epoch {:4d}: training loss = {:.6f} | val accuracy = {:.2f}%\".format(\n",
        "                    i, epoch_loss, accuracy * 100))\n",
        "        return losses, accuracies"
      ],
      "metadata": {
        "id": "N2P2i4Dwk1BQ"
      },
      "execution_count": 43,
      "outputs": []
    },
    {
      "cell_type": "code",
      "source": [
        "%matplotlib inline\n",
        "# !pip install matplotlib  # Uncomment and run if matplotlib is not installed yet.\n",
        "import matplotlib          # We use this package to visualize some data and results\n",
        "import matplotlib.pyplot as plt\n",
        "import tensorflow\n",
        "from tensorflow import keras\n",
        "from keras.datasets import mnist\n",
        "\n",
        "np.random.seed(42)"
      ],
      "metadata": {
        "id": "L5_SFHmslzpm"
      },
      "execution_count": 46,
      "outputs": []
    },
    {
      "cell_type": "code",
      "source": [
        "(x_train, y_train),(x_test, y_test) = mnist.load_data()\n",
        "num_classes = 10"
      ],
      "metadata": {
        "colab": {
          "base_uri": "https://localhost:8080/"
        },
        "id": "ZRyrT2CKl1YO",
        "outputId": "c232f8c4-e677-45e1-cae6-8c7a7f05c41b"
      },
      "execution_count": 47,
      "outputs": [
        {
          "output_type": "stream",
          "name": "stdout",
          "text": [
            "Downloading data from https://storage.googleapis.com/tensorflow/tf-keras-datasets/mnist.npz\n",
            "11490434/11490434 [==============================] - 0s 0us/step\n"
          ]
        }
      ]
    },
    {
      "cell_type": "code",
      "source": [
        "img_idx = np.random.randint(0, x_test.shape[0])\n",
        "plt.imshow(x_test[img_idx], cmap=matplotlib.cm.binary)\n",
        "plt.axis(\"off\")\n",
        "plt.show()"
      ],
      "metadata": {
        "colab": {
          "base_uri": "https://localhost:8080/",
          "height": 406
        },
        "id": "emidwvrUmE4n",
        "outputId": "64694f88-7083-495d-b85e-7de43b52b321"
      },
      "execution_count": 49,
      "outputs": [
        {
          "output_type": "display_data",
          "data": {
            "text/plain": [
              "<Figure size 640x480 with 1 Axes>"
            ],
            "image/png": "[encoded data removed]"
          },
          "metadata": {}
        }
      ]
    },
    {
      "cell_type": "code",
      "source": [
        "y_test[img_idx]"
      ],
      "metadata": {
        "colab": {
          "base_uri": "https://localhost:8080/"
        },
        "id": "W1Y9i4HTmGXQ",
        "outputId": "297ed773-9353-4fed-8cae-95819cefa506"
      },
      "execution_count": 50,
      "outputs": [
        {
          "output_type": "execute_result",
          "data": {
            "text/plain": [
              "1"
            ]
          },
          "metadata": {},
          "execution_count": 50
        }
      ]
    },
    {
      "cell_type": "code",
      "source": [
        "X_train, X_test = x_train.reshape(-1, 28 * 28), x_test.reshape(-1, 28 * 28)"
      ],
      "metadata": {
        "id": "H09relHYmJWx"
      },
      "execution_count": 52,
      "outputs": []
    },
    {
      "cell_type": "code",
      "source": [
        "\n",
        "print(\"Pixel values between {} and {}\".format(X_train.min(), X_train.max()))"
      ],
      "metadata": {
        "colab": {
          "base_uri": "https://localhost:8080/"
        },
        "id": "VOYzNDgPmLeU",
        "outputId": "3271e8fc-b4a0-49ce-9ef8-7a33448dcf8e"
      },
      "execution_count": 53,
      "outputs": [
        {
          "output_type": "stream",
          "name": "stdout",
          "text": [
            "Pixel values between 0 and 255\n"
          ]
        }
      ]
    },
    {
      "cell_type": "code",
      "source": [
        "X_train, X_test = X_train / 255., X_test / 255.\n",
        "print(\"Normalized pixel values between {} and {}\".format(X_train.min(), X_train.max()))"
      ],
      "metadata": {
        "colab": {
          "base_uri": "https://localhost:8080/"
        },
        "id": "cqu7dcu0mMFZ",
        "outputId": "d49e6b87-c042-40f2-8e5c-25cb7c854c1f"
      },
      "execution_count": 54,
      "outputs": [
        {
          "output_type": "stream",
          "name": "stdout",
          "text": [
            "Normalized pixel values between 0.0 and 1.0\n"
          ]
        }
      ]
    },
    {
      "cell_type": "code",
      "source": [
        "y_train = np.eye(num_classes)[y_train]"
      ],
      "metadata": {
        "id": "GH71Sx58mQCy"
      },
      "execution_count": 55,
      "outputs": []
    },
    {
      "cell_type": "code",
      "source": [
        "mnist_classifier = SimpleNetwork(num_inputs=X_train.shape[1],\n",
        "                                 num_outputs=num_classes, hidden_layers_sizes=[64, 32])"
      ],
      "metadata": {
        "id": "iJTEwmlHmRKL"
      },
      "execution_count": 56,
      "outputs": []
    },
    {
      "cell_type": "code",
      "source": [
        "predictions = mnist_classifier.forward(X_train)                         # forward pass\n",
        "loss_untrained = mnist_classifier.loss_function(predictions, y_train)   # loss computation\n",
        "\n",
        "accuracy_untrained = mnist_classifier.evaluate_accuracy(X_test, y_test)  # Accuracy\n",
        "print(\"Untrained : training loss = {:.6f} | val accuracy = {:.2f}%\".format(\n",
        "    loss_untrained, accuracy_untrained * 100))"
      ],
      "metadata": {
        "colab": {
          "base_uri": "https://localhost:8080/"
        },
        "id": "VBGYD84FmSSp",
        "outputId": "c4f122b4-6388-46c6-bf54-205c8398ce3b"
      },
      "execution_count": 57,
      "outputs": [
        {
          "output_type": "stream",
          "name": "stdout",
          "text": [
            "Untrained : training loss = 4.436700 | val accuracy = 12.19%\n"
          ]
        }
      ]
    },
    {
      "cell_type": "code",
      "source": [
        "losses, accuracies = mnist_classifier.train(X_train, y_train, X_test, y_test,\n",
        "                                            batch_size=30, num_epochs=60)\n",
        "# note: Reduce the batch size and/or number of epochs if your computer can't\n",
        "#       handle the computations / takes too long.\n",
        "#       Remember, numpy also uses the CPU, not GPUs as modern Deep Learning\n",
        "#       libraries do, hence the lack of computational performance here."
      ],
      "metadata": {
        "colab": {
          "base_uri": "https://localhost:8080/"
        },
        "id": "IbXqtGnPmTWk",
        "outputId": "781d620a-3545-4a25-8981-cc9ece0d4717"
      },
      "execution_count": 59,
      "outputs": [
        {
          "output_type": "stream",
          "name": "stdout",
          "text": [
            "Epoch    0: training loss = 0.142101 | val accuracy = 90.74%\n",
            "Epoch   20: training loss = 0.125006 | val accuracy = 91.46%\n",
            "Epoch   40: training loss = 0.112432 | val accuracy = 92.13%\n",
            "Epoch   59: training loss = 0.103216 | val accuracy = 92.41%\n"
          ]
        }
      ]
    },
    {
      "cell_type": "code",
      "source": [
        "losses, accuracies = [loss_untrained] + losses, [accuracy_untrained] + accuracies\n",
        "fig, ax_loss = plt.subplots()\n",
        "\n",
        "color = 'red'\n",
        "ax_loss.set_xlim([0, 60])\n",
        "ax_loss.set_xlabel('Epochs')\n",
        "ax_loss.set_ylabel('Training Loss', color=color)\n",
        "ax_loss.plot(losses, color=color)\n",
        "ax_loss.tick_params(axis='y', labelcolor=color)\n",
        "\n",
        "ax_acc = ax_loss.twinx()  # instantiate a second axes that shares the same x-axis\n",
        "color = 'blue'\n",
        "ax_acc.set_xlim([0, 65])\n",
        "ax_acc.set_ylim([0, 1])\n",
        "ax_acc.set_ylabel('Val Accuracy', color=color)\n",
        "ax_acc.plot(accuracies, color=color)\n",
        "ax_acc.tick_params(axis='y', labelcolor=color)\n",
        "\n",
        "fig.tight_layout()\n",
        "plt.show()"
      ],
      "metadata": {
        "colab": {
          "base_uri": "https://localhost:8080/",
          "height": 487
        },
        "id": "58k6yrWImVMK",
        "outputId": "1d5556d3-2974-47f4-a915-58fc696f398d"
      },
      "execution_count": 62,
      "outputs": [
        {
          "output_type": "display_data",
          "data": {
            "text/plain": [
              "<Figure size 640x480 with 2 Axes>"
            ],
            "image/png": "[encoded data removed]"
          },
          "metadata": {}
        }
      ]
    },
    {
      "cell_type": "code",
      "source": [
        "# We use `np.expand_dims(x, 0)` to simulate a batch (transforming the image shape\n",
        "# from (784,) to (1, 784)):\n",
        "predicted_class = mnist_classifier.predict(np.expand_dims(X_test[img_idx], 0))\n",
        "print('Predicted class: {}; Correct class: {}'.format(predicted_class, y_test[img_idx]))"
      ],
      "metadata": {
        "colab": {
          "base_uri": "https://localhost:8080/"
        },
        "id": "wq0aEMeWnjss",
        "outputId": "e5b7ae50-1535-4869-a166-496dc78f4249"
      },
      "execution_count": 63,
      "outputs": [
        {
          "output_type": "stream",
          "name": "stdout",
          "text": [
            "Predicted class: 1; Correct class: 1\n"
          ]
        }
      ]
    },
    {
      "cell_type": "code",
      "source": [],
      "metadata": {
        "id": "s50vPHjfnuGE"
      },
      "execution_count": null,
      "outputs": []
    }
  ]
}